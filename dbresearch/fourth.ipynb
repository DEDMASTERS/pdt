{
 "cells": [
  {
   "cell_type": "code",
   "execution_count": 2,
   "metadata": {},
   "outputs": [],
   "source": [
    "import pandas as pd\n",
    "\n",
    "data = pd.read_csv('data/nd2.csv')\n",
    "\n",
    "data = data.drop(['Unnamed: 0'], axis=1)\n"
   ]
  },
  {
   "cell_type": "code",
   "execution_count": 5,
   "metadata": {},
   "outputs": [],
   "source": [
    "data['Опыт работы (год)'] = data['Опыт работы (месяц)'] / 12"
   ]
  },
  {
   "cell_type": "code",
   "execution_count": 9,
   "metadata": {},
   "outputs": [
    {
     "name": "stdout",
     "output_type": "stream",
     "text": [
      "Duplicates: 161\n"
     ]
    }
   ],
   "source": [
    "\n",
    "dupl_columns = list(data.columns)\n",
    "mask = data.duplicated(subset=dupl_columns)\n",
    "ddups = data[mask]\n",
    "print(f'Duplicates: {ddups.shape[0]}')\n"
   ]
  },
  {
   "cell_type": "code",
   "execution_count": 7,
   "metadata": {},
   "outputs": [
    {
     "data": {
      "text/plain": [
       "44589"
      ]
     },
     "execution_count": 7,
     "metadata": {},
     "output_type": "execute_result"
    }
   ],
   "source": [
    "ddata = data.drop_duplicates(subset=dupl_columns)\n",
    "ddata.shape[0]"
   ]
  },
  {
   "cell_type": "code",
   "execution_count": 14,
   "metadata": {},
   "outputs": [
    {
     "data": {
      "text/plain": [
       "168"
      ]
     },
     "execution_count": 14,
     "metadata": {},
     "output_type": "execute_result"
    }
   ],
   "source": [
    "ddata['Опыт работы (месяц)'].isna().sum()"
   ]
  },
  {
   "cell_type": "code",
   "execution_count": 10,
   "metadata": {},
   "outputs": [
    {
     "name": "stdout",
     "output_type": "stream",
     "text": [
      "114\n"
     ]
    }
   ],
   "source": [
    "th = ddata.shape[0]\n",
    "ddata.dropna(how='any', thresh=th, axis=1)\n",
    "ddata.shape[0]\n",
    "\n",
    "values = {\n",
    "    'Опыт работы (месяц)': ddata['Опыт работы (месяц)'].median()  \n",
    "}\n",
    "\n",
    "ddata = ddata.fillna(values)\n",
    "ddata['Опыт работы (месяц)'].isna().sum()\n",
    "\n",
    "print(round(ddata['Опыт работы (месяц)'].mean()))"
   ]
  },
  {
   "cell_type": "code",
   "execution_count": 11,
   "metadata": {},
   "outputs": [
    {
     "name": "stdout",
     "output_type": "stream",
     "text": [
      "89\n"
     ]
    }
   ],
   "source": [
    "outly = ddata[(ddata['ЗП (руб)'] > 1e6) | (ddata['ЗП (руб)'] < 1e3)]\n",
    "ddata = ddata.drop(outly.index)\n",
    "print(outly.shape[0])"
   ]
  },
  {
   "cell_type": "code",
   "execution_count": 12,
   "metadata": {},
   "outputs": [
    {
     "name": "stdout",
     "output_type": "stream",
     "text": [
      "7\n"
     ]
    }
   ],
   "source": [
    "outlier = ddata[ddata['Опыт работы (год)'] > ddata['Возраст']]\n",
    "print(outlier.shape[0])\n",
    "ddata = ddata.drop(outlier.index)\n",
    "\n"
   ]
  },
  {
   "cell_type": "code",
   "execution_count": 16,
   "metadata": {},
   "outputs": [
    {
     "name": "stdout",
     "output_type": "stream",
     "text": [
      "Outliers=3\n"
     ]
    },
    {
     "data": {
      "image/png": "[encoded data removed]",
      "text/plain": [
       "<Figure size 720x360 with 1 Axes>"
      ]
     },
     "metadata": {
      "needs_background": "light"
     },
     "output_type": "display_data"
    }
   ],
   "source": [
    "import numpy as np\n",
    "import matplotlib.pyplot as plt\n",
    "import seaborn as sns\n",
    "\n",
    "def outzes(data, feature, log_scale=True, left=3, right=3):\n",
    "    if log_scale:\n",
    "        x = np.log(data[feature])\n",
    "    else:\n",
    "        x = data[feature]\n",
    "    mu = x.mean()\n",
    "    sigma = x.std()\n",
    "    lower_bound = mu - (left * sigma)\n",
    "    upper_bound = mu + (right * sigma)\n",
    "    outliers = data[(x < lower_bound) | (x > upper_bound)]\n",
    "    cleaned = data[(x > lower_bound) & (x < upper_bound)]\n",
    "    return outliers, cleaned\n",
    "\n",
    "\n",
    "fig, ax = plt.subplots(1, 1, figsize=(10, 5))\n",
    "log_age = np.log(ddata['Возраст']+1)\n",
    "histplot = sns.histplot(log_age, bins=20, ax=ax)\n",
    "histplot.axvline(log_age.mean(), color='r', lw=2)\n",
    "histplot.axvline(log_age.mean() + 4 * log_age.std(), color='g', ls='--', lw=2)\n",
    "histplot.axvline(log_age.mean() - 3 * log_age.std(), color='g', ls='--', lw=2)\n",
    "outliers, cleaned = outzes(ddata, 'Возраст', right=4)\n",
    "print(f'Outliers={outliers.shape[0]}')\n",
    "\n",
    "#Распределение ассимитрично в левую сторону"
   ]
  }
 ],
 "metadata": {
  "interpreter": {
   "hash": "0f1071d19771df22386b165fc3f2af9fbf4f9fc1430736460ceee564636a938c"
  },
  "kernelspec": {
   "display_name": "Python 3 (ipykernel)",
   "language": "python",
   "name": "python3"
  },
  "language_info": {
   "codemirror_mode": {
    "name": "ipython",
    "version": 3
   },
   "file_extension": ".py",
   "mimetype": "text/x-python",
   "name": "python",
   "nbconvert_exporter": "python",
   "pygments_lexer": "ipython3",
   "version": "3.9.7"
  }
 },
 "nbformat": 4,
 "nbformat_minor": 2
}
