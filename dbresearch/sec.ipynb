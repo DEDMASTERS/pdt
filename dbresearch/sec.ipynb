{
 "cells": [
  {
   "cell_type": "code",
   "execution_count": 71,
   "metadata": {},
   "outputs": [],
   "source": [
    "import pandas as pd\n",
    "\n",
    "data = pd.read_csv('data/dat.csv', sep=';')\n",
    "\n"
   ]
  },
  {
   "cell_type": "code",
   "execution_count": 72,
   "metadata": {},
   "outputs": [
    {
     "data": {
      "text/plain": [
       "559"
      ]
     },
     "execution_count": 72,
     "metadata": {},
     "output_type": "execute_result"
    }
   ],
   "source": [
    "data['Образование'] = data['Образование и ВУЗ'].apply(lambda x: ' '.join(x.split(' ')[:2]))\n",
    "\n",
    "data = data.drop(['Образование и ВУЗ'], axis=1)\n",
    "\n",
    "mided = data[data['Образование'] == 'Среднее образование']\n",
    "mided.shape[0]\n"
   ]
  },
  {
   "cell_type": "code",
   "execution_count": 73,
   "metadata": {},
   "outputs": [
    {
     "name": "stdout",
     "output_type": "stream",
     "text": [
      "32\n",
      "19.07\n"
     ]
    }
   ],
   "source": [
    "data['Пол'] = data['Пол, возраст'].apply(lambda x: x[:1])\n",
    "data['Возраст'] = data['Пол, возраст'].apply(lambda x: x.split(' ')[3])\n",
    "\n",
    "midage = round(data['Возраст'].astype(int).mean())\n",
    "print(midage)\n",
    "countw = data[data['Пол'] == 'Ж'].shape[0]\n",
    "data = data.drop(['Пол, возраст'], axis=1)                                 \n",
    "wom = round(countw / data.shape[0] * 100, 2)                                             \n",
    "print(wom)\n"
   ]
  },
  {
   "cell_type": "code",
   "execution_count": 74,
   "metadata": {},
   "outputs": [
    {
     "name": "stdout",
     "output_type": "stream",
     "text": [
      "100.0\n"
     ]
    }
   ],
   "source": [
    "import numpy as np\n",
    "\n",
    "def trans(arg):\n",
    "    if arg is np.nan:\n",
    "        return np.nan\n",
    "    if arg == 'Не указано':\n",
    "        return np.nan\n",
    "    month_id = ['месяцев', 'месяца', 'месяц']\n",
    "    year_id = ['лет', 'год', 'года']\n",
    "    splitted = str(arg).split(' ')[2:]\n",
    "    if splitted[1] in year_id:\n",
    "        mon = int(splitted[0]) * 12\n",
    "        if splitted[3] in month_id:\n",
    "            totmon = int(splitted[2]) + mon\n",
    "            return totmon\n",
    "        else: return mon\n",
    "    if splitted[1] in month_id:\n",
    "        mon = int(splitted[0])\n",
    "        return mon\n",
    "    else: pass\n",
    "data['Опыт работы (месяц)'] = data['Опыт работы'].apply(trans)\n",
    "\n",
    "print(data['Опыт работы (месяц)'].median())\n",
    "\n",
    "\n"
   ]
  },
  {
   "cell_type": "code",
   "execution_count": 75,
   "metadata": {},
   "outputs": [
    {
     "name": "stdout",
     "output_type": "stream",
     "text": [
      "11\n",
      "32\n"
     ]
    }
   ],
   "source": [
    "\n",
    "def cityloc(arg):\n",
    "    million_cities = ['Новосибирск', 'Екатеринбург', 'Нижний Новгород', 'Казань',\n",
    "                      'Челябинск', 'Омск', 'Самара', 'Ростов-на-Дону', 'Уфа', 'Красноярск',\n",
    "                      'Пермь', 'Воронеж', 'Волгоград' ]\n",
    "    splitted = str(arg).split(' ')\n",
    "\n",
    "    if splitted[0] == 'Санкт-Петербург' or splitted[0] == 'Москва':\n",
    "        return splitted[0]\n",
    "    elif splitted[0] in million_cities:\n",
    "        return 'город-милионник'\n",
    "    else:\n",
    "        return 'Другие'\n",
    "\n",
    "    \n",
    "    \n",
    "def citymove(arg):\n",
    "    splitted = str(arg).split(',')\n",
    "    dbsplit = splitted[-2].split(' ')\n",
    "    if 'не' in dbsplit:\n",
    "        return False\n",
    "    else:\n",
    "        return True\n",
    " \n",
    "\n",
    "def comand(arg):\n",
    "    splitted = str(arg).split(',')\n",
    "    dbsplit = splitted[-1].split(' ')\n",
    "    if 'не' in dbsplit:\n",
    "        return False\n",
    "    else:\n",
    "        return True\n",
    "  \n",
    "data['Город'] = data['Город, переезд, командировки'].apply(cityloc)\n",
    "spb = data[data['Город'] == 'Санкт-Петербург'].shape[0]\n",
    "spb_proc = round(spb / data.shape[0] * 100)\n",
    "print(spb_proc)\n",
    "\n",
    "\n",
    "data['Готовность к переезду'] = data['Город, переезд, командировки'].apply(citymove)\n",
    "data['Готовность к командировкам'] = data['Город, переезд, командировки'].apply(comand)\n",
    "\n",
    "\n",
    "mask = (data['Готовность к переезду'] == True) & (data['Готовность к командировкам'] == True)\n",
    "\n",
    "movecom = data[mask].shape[0]\n",
    "proc = round(movecom / data.shape[0] * 100)\n",
    "print(proc)\n",
    "\n",
    "data = data.drop(['Город, переезд, командировки'], axis=1)"
   ]
  },
  {
   "cell_type": "code",
   "execution_count": 76,
   "metadata": {},
   "outputs": [
    {
     "name": "stdout",
     "output_type": "stream",
     "text": [
      "436\n",
      "2311\n"
     ]
    }
   ],
   "source": [
    "busyTypes = ['полная занятость', 'частичная занятость', 'проектная работа', 'стажировка', 'волонтерство']\n",
    "data['полная занятость'] = data['Занятость'].apply(lambda x: True if ('полная занятость' in x) else False)\n",
    "\n",
    "data['частичная занятость'] = data['Занятость'].apply(lambda x: True if ('частичная занятость' in x) else False)\n",
    "\n",
    "data['проектная работа'] = data['Занятость'].apply(lambda x: True if ('проектная работа' in x) else False)\n",
    "\n",
    "data['стажировка'] = data['Занятость'].apply(lambda x: True if ('стажировка' in x) else False)\n",
    "\n",
    "data['волонтерство'] = data['Занятость'].apply(lambda x: True if ('волонтерство' in x) else False)\n",
    "\n",
    "msk = (data['проектная работа'] == True) & (data['волонтерство'] == True)\n",
    "print(data[msk].shape[0])\n",
    "\n",
    "\n",
    "data['гибкий график'] = data['График'].apply(lambda x: True if ('гибкий график' in x) else False)\n",
    "\n",
    "data['полный день'] = data['График'].apply(lambda x: True if ('полный день' in x) else False)\n",
    "\n",
    "data['сменный график'] = data['График'].apply(lambda x: True if ('сменный график' in x) else False)\n",
    "\n",
    "data['удаленная работа'] = data['График'].apply(lambda x: True if ('удаленная работа' in x) else False)\n",
    "\n",
    "data['вахтовый метод'] = data['График'].apply(lambda x: True if ('вахтовый метод' in x) else False)\n",
    "\n",
    "msk2 = (data['вахтовый метод'] == True) & (data['гибкий график'] == True)\n",
    "print(data[msk2].shape[0])\n",
    "\n"
   ]
  },
  {
   "cell_type": "code",
   "execution_count": 77,
   "metadata": {},
   "outputs": [
    {
     "name": "stdout",
     "output_type": "stream",
     "text": [
      "59\n"
     ]
    }
   ],
   "source": [
    "exrates = pd.read_csv('data/ExchangeRates.csv')\n",
    "\n",
    "def get_salary_num(arg):\n",
    "    salary = float(arg.split(' ')[0])\n",
    "    return salary\n",
    "\n",
    "def get_salary_currency(arg):\n",
    "    currency_dict = {\n",
    "        'USD': 'USD', 'KZT': 'KZT',\n",
    "        'грн': 'UAH', 'белруб': 'BYN',\n",
    "        'EUR': 'EUR', 'KGS': 'KGS',\n",
    "        'сум': 'UZS', 'AZN': 'AZN'\n",
    "    }\n",
    "    curr = arg.split(' ')[1].replace('.', '')\n",
    "    if curr == 'руб':\n",
    "        return 'RUB'\n",
    "    else:\n",
    "        return currency_dict[curr]\n",
    "    \n",
    "    \n",
    "exrates['date'] = pd.to_datetime(exrates['date']).dt.date\n",
    "data['Обновление резюме'] = pd.to_datetime(data['Обновление резюме']).dt.date\n",
    "data['ЗП (tmp)'] = data['ЗП'].apply(get_salary_num)\n",
    "data['Курс (tmp)'] = data['ЗП'].apply(get_salary_currency)\n",
    "\n",
    "\n",
    "merged = data.merge(exrates, left_on=['Курс (tmp)', 'Обновление резюме'], right_on=['currency', 'date'], how='left')\n",
    "\n",
    "merged['close'] = merged['close'].fillna(1)\n",
    "merged['proportion'] = merged['proportion'].fillna(1)\n",
    "\n",
    "data['ЗП (руб)'] = merged['close'] * merged['ЗП (tmp)'] / merged['proportion']\n",
    "data = data.drop(['ЗП', 'ЗП (tmp)', 'Курс (tmp)'], axis=1)\n",
    "\n",
    "print(round(data['ЗП (руб)'].median()/1000))\n"
   ]
  },
  {
   "cell_type": "code",
   "execution_count": 79,
   "metadata": {},
   "outputs": [
    {
     "name": "stdout",
     "output_type": "stream",
     "text": [
      "<class 'pandas.core.frame.DataFrame'>\n",
      "RangeIndex: 44744 entries, 0 to 44743\n",
      "Data columns (total 26 columns):\n",
      " #   Column                           Non-Null Count  Dtype  \n",
      "---  ------                           --------------  -----  \n",
      " 0   Ищет работу на должность:        44744 non-null  object \n",
      " 1   Занятость                        44744 non-null  object \n",
      " 2   График                           44744 non-null  object \n",
      " 3   Опыт работы                      44576 non-null  object \n",
      " 4   Последнее/нынешнее место работы  44743 non-null  object \n",
      " 5   Последняя/нынешняя должность     44742 non-null  object \n",
      " 6   Обновление резюме                44744 non-null  object \n",
      " 7   Авто                             44744 non-null  object \n",
      " 8   Образование                      44744 non-null  object \n",
      " 9   Пол                              44744 non-null  object \n",
      " 10  Возраст                          44744 non-null  object \n",
      " 11  Опыт работы (месяц)              44574 non-null  float64\n",
      " 12  Город                            44744 non-null  object \n",
      " 13  Готовность к переезду            44744 non-null  bool   \n",
      " 14  Готовность к командировкам       44744 non-null  bool   \n",
      " 15  полная занятость                 44744 non-null  bool   \n",
      " 16  частичная занятость              44744 non-null  bool   \n",
      " 17  проектная работа                 44744 non-null  bool   \n",
      " 18  стажировка                       44744 non-null  bool   \n",
      " 19  волонтерство                     44744 non-null  bool   \n",
      " 20  гибкий график                    44744 non-null  bool   \n",
      " 21  полный день                      44744 non-null  bool   \n",
      " 22  сменный график                   44744 non-null  bool   \n",
      " 23  удаленная работа                 44744 non-null  bool   \n",
      " 24  вахтовый метод                   44744 non-null  bool   \n",
      " 25  ЗП (руб)                         44744 non-null  float64\n",
      "dtypes: bool(12), float64(2), object(12)\n",
      "memory usage: 5.3+ MB\n"
     ]
    }
   ],
   "source": [
    "data.info()\n",
    "data.to_csv('data/nd2.csv')"
   ]
  },
  {
   "cell_type": "code",
   "execution_count": null,
   "metadata": {},
   "outputs": [],
   "source": []
  },
  {
   "cell_type": "code",
   "execution_count": null,
   "metadata": {},
   "outputs": [],
   "source": []
  }
 ],
 "metadata": {
  "interpreter": {
   "hash": "0f1071d19771df22386b165fc3f2af9fbf4f9fc1430736460ceee564636a938c"
  },
  "kernelspec": {
   "display_name": "Python 3 (ipykernel)",
   "language": "python",
   "name": "python3"
  },
  "language_info": {
   "codemirror_mode": {
    "name": "ipython",
    "version": 3
   },
   "file_extension": ".py",
   "mimetype": "text/x-python",
   "name": "python",
   "nbconvert_exporter": "python",
   "pygments_lexer": "ipython3",
   "version": "3.9.7"
  }
 },
 "nbformat": 4,
 "nbformat_minor": 2
}
